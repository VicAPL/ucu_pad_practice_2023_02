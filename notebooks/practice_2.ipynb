{
 "cells": [
  {
   "cell_type": "markdown",
   "source": [
    "# Práctica 2\n",
    "\n",
    "Para esta tarea, veremos los datos de vacunas de 2017. El archivo con estos datos está en `/data/NISPUF17.csv`. Para conocer los nombres de las variables de los datos tienes disponible una guía de usuarios de datos en `/data/NIS-PUF17-DUG.pdf`."
   ],
   "metadata": {
    "collapsed": false
   }
  },
  {
   "cell_type": "markdown",
   "source": [
    "## Pregunta 1\n",
    "\n",
    "Escribe una función llamada `proportion_of_education` que devuelva la proporción de niños en el dataset que tuvieron una madre con los niveles de educación: igual a menor de secundaria (<12), secundaria (12), mayor que secundaria pero sin ser universitaria graduada (>12) y con título universitario.\n",
    "\n",
    "Esta función debería devolver un diccionario en forma de (use los números correctos, no redondee los números):\n",
    "\n",
    "```python\n",
    "{\"menor que  secundaria\": 0.2,\n",
    " \"secundaria\": 0.4,\n",
    " \"mayor a secundaria pero no universitaria\": 0.2,\n",
    " \"universitaria\": 0.2}\n",
    "```\n"
   ],
   "metadata": {
    "collapsed": false
   }
  },
  {
   "cell_type": "code",
   "execution_count": 2,
   "outputs": [],
   "source": [
    "import pandas as pd\n",
     "#Se crea un dataframe en el que se muestran los datos correspondientes a la encuesta nacional de inmunización infantil de Estados Unidos en 2017"
     "archivo_csv = '/data/NISPUF17.csv'"
     "df = pd.read_csv(archivo_csv)"
     "print('DataFrame: ')"
     "df.head() #Lo utilizo para que el dataframe solo muestre las primeras 5 filas"
    "\n",
    "\n",
    "#Para resolver la primer pregunta se crea una función proportion_of_education que define la cantidad de niños cuyas madres culminaron cada nivel de educación indicado"
    "def proportion_of_education(df):\n",
      "educacion_menos_secundaria = len(df[df['EDUC1'] == 1])"
      "educacion_secundaria = len(df[df['EDUC1'] == 2])"
      "educacion_mayor_secundaria_no_uni = len(df[df['EDUC1'] == 3])"
      "educacion_mayor_secundaria_uni = len(df[df['EDUC1'] == 4])"
      "#Se calcula el total global"
      "total = len(df)"
      "#Se determina un diccionario con el calculo de las proporciones que se quiere analizar"
      "proporciones = {"
         "'Educación menor a secundaria:' : educacion_menos_secundaria / total,"
         "'Educación igual a secundaria:' : educacion_secundaria / total,"
         "'Educación mayor a secundaria pero no universitaria:' : educacion_mayor_secundaria_no_uni / total,"
         "'Educacion mayor a secundaria y universitaria:' : educacion_mayor_secundaria_uni / total"
      "}"
      "return proporciones"
    "\n",
    "\n",
    "\n",
    "#Se muestran los resultados obtenidos en las proporciones calculadas"
    "resultados = proportion_of_education(df)"
    "print('Resultados: ')"
    "print(resultados)"
   ],
   "metadata": {
    "collapsed": false,
    "ExecuteTime": {
     "end_time": "2023-05-21T22:00:42.430893575Z",
     "start_time": "2023-05-21T22:00:42.382088417Z"
    }
   }
  },
  {
   "cell_type": "markdown",
   "source": [
    "## Pregunta 2\n",
    "\n",
    "Exploremos la relación entre ser alimentado con leche materna (fed breast milk) cuando era niño y recibir una vacuna contra la influenza estacional (seasonal influenza) de un proveedor de atención médica.\n",
    "\n",
    "Devuelva una tupla del número promedio de vacunas contra la influenza para aquellos niños que sabemos que recibieron leche materna cuando eran niños y aquellos que sabemos que no."
   ],
   "metadata": {
    "collapsed": false
   }
  },
  {
   "cell_type": "code",
   "execution_count": 3,
   "outputs": [],
   "source": [
    "#Para la Pregunta 2 se define la funcion average_influenza_doses en la que se determina la cantidad de niños que fueron o no alimentados con leche materna"
    "def average_influenza_doses(df):\n",
     "alimentado_leche_materna = df[df['CBF_01'] == 1]"
     "no_alimentado_leche_materna = df[df['CBF_01'] == 2]"
     "#Se calcula el primedio de niños alimentados o no con leche materna que han sido vacunados"
     "promedio_vacunas_leche_materna = alimentado_leche_materna['P_NUMFLU'].mean()"
     "promedio_vacunas_no_leche_materna = no_alimentado_leche_materna['P_NUMFLU'].mean()"
    "\n",
     "return (promedio_vacunas_leche_materna, promedio_vacunas_no_leche_materna)"
    "\n",
    "\n",
    "#Se muestran los resultados de los calculos realizados"
    "resultados = average_influenza_doses(df)"
    "print("Número promedio de vacunas contra la influenza para niños alimentados con leche materna:", resultados[0])"
    "print("Número promedio de vacunas contra la influenza para niños no alimentados con leche materna:", resultados[1])"
   ],
   "metadata": {
    "collapsed": false
   }
  },
  {
   "cell_type": "markdown",
   "source": [
    "# Pregunta 3\n",
    "\n",
    "Sería interesante ver si hay evidencia de un vínculo entre la efectividad de la vacuna y el sexo del niño.\n",
    "Calcule el ratio entre el número de niños que contrajeron varicela (chickenpox) pero que fueron vacunados contra ella (al menos una dosis) versus los que fueron vacunados y no contrajeron varicela.\n",
    "\n",
    "Devuelve los resultados por sexo.\n",
    "\n",
    "Esta función debería devolver un diccionario en forma de:\n",
    "\n",
    "```python\n",
    "{\"male\": 0.2, \"female\": 0.4}\n",
    "```\n",
    "\n",
    "Nota: Para ayudar en la verificación, el valor de chickenpox_by_sex()['female'] comienza con los dígitos 0.0077."
   ],
   "metadata": {
    "collapsed": false
   }
  },
  {
   "cell_type": "code",
   "execution_count": 4,
   "outputs": [],
   "source": [
    "#Se define la función chikenpox_by_sex para resolver la pregunta 3 en la que se determinan dos grupos: uno para niños vacunados que tuvieron varicela y otro para niños vacunados que no tuvieron varicela"
    "def chickenpox_by_sex(df):\n",
     "vacunados_tuvieron_varicela = df[(df['HAD_CPOX'] == 1) & (df['P_NUMVRC'] >= 1)]"
     "vacunados_no_tuvieron_varicela = df[(df['HAD_CPOX'] == 2) & (df['P_NUMVRC'] >= 1)]"
     "#Se calculan los ratios según el sexo del niño"
     "ratio_hombres = len(vacunados_tuvieron_varicela[vacunados_tuvieron_varicela['SEX'] == 1]) / len(vacunados_no_tuvieron_varicela[vacunados_no_tuvieron_varicela['SEX'] == 1])"
     "ratio_mujeres = len(vacunados_tuvieron_varicela[vacunados_tuvieron_varicela['SEX'] == 2]) / len(vacunados_no_tuvieron_varicela[vacunados_no_tuvieron_varicela['SEX'] == 2])"
     "#Se crea un diccionario para mostrar los ratios"
     "ratios = {"
         "'Hombres: ' : ratio_hombres,"
         "'Mujeres: ': ratio_mujeres"
     "}"
    "\n",
     "return ratios",
    "\n",
    "\n",
    "#Se muestran los resultados obtenidos en los ratios calculados"
    "resultados3 = chickenpox_by_sex(df)"
    "print('Resultados: ')"
    "print(resultados3)"
   ],
   "metadata": {
    "collapsed": false
   }
  },
  {
   "cell_type": "code",
   "execution_count": 4,
   "outputs": [],
   "source": [],
   "metadata": {
    "collapsed": false
   }
  }
 ],
 "metadata": {
  "kernelspec": {
   "display_name": "Python 3",
   "language": "python",
   "name": "python3"
  },
  "language_info": {
   "codemirror_mode": {
    "name": "ipython",
    "version": 2
   },
   "file_extension": ".py",
   "mimetype": "text/x-python",
   "name": "python",
   "nbconvert_exporter": "python",
   "pygments_lexer": "ipython2",
   "version": "2.7.6"
